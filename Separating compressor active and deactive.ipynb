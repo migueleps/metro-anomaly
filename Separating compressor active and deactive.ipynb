{
 "cells": [
  {
   "cell_type": "code",
   "execution_count": 24,
   "metadata": {
    "collapsed": true
   },
   "outputs": [],
   "source": [
    "import pandas as pd\n",
    "import matplotlib.pyplot as plt\n",
    "import numpy as np\n",
    "import torch as th\n",
    "from torch.nn.utils.rnn import pack_padded_sequence, pad_packed_sequence\n",
    "from torch import nn, optim\n",
    "import torch.nn.functional as F\n",
    "from sklearn.preprocessing import StandardScaler\n",
    "from sklearn.model_selection import train_test_split\n",
    "import copy\n",
    "import time\n",
    "import seaborn as sns\n",
    "import pickle as pkl\n",
    "from operator import itemgetter"
   ]
  },
  {
   "cell_type": "code",
   "execution_count": 2,
   "outputs": [],
   "source": [
    "metro = pd.read_csv(\"data/dataset_train.csv\")\n",
    "metro[\"timestamp\"] = pd.to_datetime(metro[\"timestamp\"],dayfirst=True)\n",
    "metro[\"timestamp_day\"] = metro.timestamp - np.timedelta64(2,\"h\")-np.timedelta64(1,\"s\")"
   ],
   "metadata": {
    "collapsed": false
   }
  },
  {
   "cell_type": "code",
   "execution_count": 3,
   "outputs": [],
   "source": [
    "air_leak1_dates = {\"start\": pd.to_datetime(\"28-02-2022 21:53:00\",\n",
    "                                           dayfirst=True)-pd.offsets.DateOffset(hours=2,seconds=1),\n",
    "                   \"end\":pd.to_datetime(\"01-03-2022 02:00:00\",\n",
    "                                        dayfirst=True)- pd.offsets.DateOffset(hours=2,seconds=1)}\n",
    "air_leak2_dates = {\"start\": pd.to_datetime(\"23-03-2022 14:54:00\",\n",
    "                                           dayfirst=True)-pd.offsets.DateOffset(hours=2,seconds=1),\n",
    "                   \"end\":pd.to_datetime(\"23-03-2022 15:24:00\",\n",
    "                                        dayfirst=True)-pd.offsets.DateOffset(hours=2,seconds=1)}\n",
    "oil_leak_dates = {\"start\": pd.to_datetime(\"30-05-2022 12:00:00\",\n",
    "                                          dayfirst=True)-pd.offsets.DateOffset(hours=2,seconds=1),\n",
    "                  \"end\":pd.to_datetime(\"02-06-2022 06:18:00\",\n",
    "                                       dayfirst=True)-pd.offsets.DateOffset(hours=2,seconds=1)}"
   ],
   "metadata": {
    "collapsed": false
   }
  },
  {
   "cell_type": "code",
   "execution_count": 4,
   "outputs": [],
   "source": [
    "air_leak1 = metro.loc[(metro.timestamp_day >= air_leak1_dates[\"start\"]) &\n",
    "                      (metro.timestamp_day < air_leak1_dates[\"end\"]),:]\n",
    "air_leak2 = metro.loc[(metro.timestamp_day >= air_leak2_dates[\"start\"]) &\n",
    "                      (metro.timestamp_day < air_leak2_dates[\"end\"]),:]\n",
    "oil_leak = metro.loc[(metro.timestamp_day >= oil_leak_dates[\"start\"]) &\n",
    "                     (metro.timestamp_day < oil_leak_dates[\"end\"]),:]"
   ],
   "metadata": {
    "collapsed": false
   }
  },
  {
   "cell_type": "code",
   "execution_count": 5,
   "outputs": [],
   "source": [
    "def test_and_train_val_dates():\n",
    "    init_train_s = metro.timestamp_day[0]\n",
    "    init_train_e = metro.timestamp_day[0] + pd.offsets.DateOffset(months=1) - pd.offsets.DateOffset(days=2)\n",
    "    init_val_s = metro.timestamp_day[0] + pd.offsets.DateOffset(months=1) - pd.offsets.DateOffset(days=2)\n",
    "    init_val_e = metro.timestamp_day[0] + pd.offsets.DateOffset(months=1)\n",
    "    init_test_s = init_val_e\n",
    "    init_test_e = init_test_s + pd.offsets.DateOffset(weeks=1)\n",
    "\n",
    "    train_dates = [[init_train_s,init_train_e]]\n",
    "    test_dates = [[init_test_s,init_test_e]]\n",
    "    val_dates = [[init_val_s, init_val_e]]\n",
    "\n",
    "    last_date = metro.timestamp_day.iloc[-1]\n",
    "    prev_test_end = init_test_e\n",
    "    while prev_test_end < last_date:\n",
    "        new_test_end = prev_test_end + pd.offsets.DateOffset(weeks=1)\n",
    "        new_train_start = prev_test_end - pd.offsets.DateOffset(months=1)\n",
    "        new_val_start = prev_test_end - pd.offsets.DateOffset(days=2)\n",
    "        train_dates.append([new_train_start,new_val_start])\n",
    "        val_dates.append([new_val_start, prev_test_end])\n",
    "        test_dates.append([prev_test_end,new_test_end])\n",
    "        prev_test_end = new_test_end\n",
    "    return train_dates, val_dates, test_dates"
   ],
   "metadata": {
    "collapsed": false
   }
  },
  {
   "cell_type": "code",
   "execution_count": 6,
   "outputs": [],
   "source": [
    "train_dates, val_dates, test_dates = test_and_train_val_dates()"
   ],
   "metadata": {
    "collapsed": false
   }
  },
  {
   "cell_type": "code",
   "execution_count": 7,
   "outputs": [],
   "source": [
    "def generate_cycles(df):\n",
    "    comp_change = list((t:=metro.COMP.diff().eq(0))[t==False].index[1:]) # if all changes to separate\n",
    "    #filling up and spending\n",
    "    #comp_change = list((t:=df.COMP.diff().eq(-1))[t==True].index)\n",
    "    return [[comp_change[i],comp_change[i+1]] for i in range(len(comp_change)-1)]"
   ],
   "metadata": {
    "collapsed": false
   }
  },
  {
   "cell_type": "code",
   "execution_count": 8,
   "outputs": [],
   "source": [
    "all_cycles = generate_cycles(metro)"
   ],
   "metadata": {
    "collapsed": false
   }
  },
  {
   "cell_type": "code",
   "execution_count": 62,
   "outputs": [],
   "source": [
    "all_cycles_comp0 = [cycle for i, cycle in enumerate(all_cycles) if i%2 == 0][:-1]\n",
    "all_cycles_comp1 = [cycle for i, cycle in enumerate(all_cycles) if i%2 == 1]"
   ],
   "metadata": {
    "collapsed": false
   }
  },
  {
   "cell_type": "code",
   "execution_count": 66,
   "outputs": [],
   "source": [
    "comp0_cycle_lengths = list(map(lambda x: (x[1] - x[0]), all_cycles_comp0))\n",
    "comp1_cycle_lengths = list(map(lambda x: (x[1] - x[0]), all_cycles_comp1))"
   ],
   "metadata": {
    "collapsed": false
   }
  },
  {
   "cell_type": "code",
   "execution_count": 76,
   "outputs": [
    {
     "data": {
      "text/plain": "[1,\n 1,\n 1,\n 1,\n 2,\n 2,\n 3,\n 4,\n 4,\n 4,\n 5,\n 7,\n 10,\n 11,\n 11,\n 12,\n 12,\n 14,\n 15,\n 16,\n 16,\n 17,\n 17,\n 18,\n 19,\n 20,\n 20,\n 20,\n 21,\n 22,\n 23,\n 24,\n 24,\n 25,\n 25,\n 26,\n 27,\n 27,\n 28,\n 29,\n 29,\n 30,\n 30,\n 32,\n 32,\n 33,\n 34,\n 35,\n 35,\n 36,\n 36,\n 36,\n 38,\n 40,\n 41,\n 41,\n 44,\n 45,\n 46,\n 47,\n 48,\n 48,\n 49,\n 50,\n 51,\n 52,\n 52,\n 52,\n 53,\n 54,\n 54,\n 54,\n 55,\n 55,\n 56,\n 57,\n 60,\n 61,\n 61,\n 62,\n 63,\n 63,\n 64,\n 64,\n 65,\n 66,\n 67,\n 67,\n 67,\n 68,\n 69,\n 69,\n 69,\n 69,\n 70,\n 70,\n 70,\n 71,\n 72,\n 72,\n 73,\n 73,\n 73,\n 74,\n 75,\n 75,\n 76,\n 76,\n 76,\n 76,\n 78,\n 78,\n 79,\n 80,\n 80,\n 80,\n 80,\n 81,\n 81,\n 82,\n 82,\n 84,\n 84,\n 85,\n 86,\n 87,\n 88,\n 88,\n 88,\n 89,\n 89,\n 91,\n 91,\n 92,\n 92,\n 92,\n 92,\n 92,\n 93,\n 93,\n 93,\n 93,\n 93,\n 93,\n 93,\n 93,\n 93,\n 93,\n 93,\n 93,\n 94,\n 94,\n 94,\n 94,\n 94,\n 94,\n 94,\n 94,\n 94,\n 94,\n 94,\n 94,\n 94,\n 94,\n 94,\n 95,\n 95,\n 95,\n 95,\n 95,\n 95,\n 95,\n 95,\n 95,\n 95,\n 95,\n 95,\n 95,\n 95,\n 95,\n 95,\n 95,\n 95,\n 95,\n 95,\n 95,\n 95,\n 95,\n 95,\n 95,\n 95,\n 95,\n 95,\n 95,\n 96,\n 96,\n 96,\n 96,\n 96,\n 96,\n 96,\n 96,\n 96,\n 96,\n 96,\n 96,\n 96,\n 96,\n 96,\n 96,\n 96,\n 96,\n 96,\n 96,\n 96,\n 96,\n 96,\n 96,\n 96,\n 96,\n 96,\n 96,\n 96,\n 96,\n 96,\n 96,\n 96,\n 96,\n 97,\n 97,\n 97,\n 97,\n 97,\n 97,\n 97,\n 97,\n 97,\n 97,\n 97,\n 97,\n 97,\n 97,\n 97,\n 97,\n 97,\n 97,\n 97,\n 97,\n 97,\n 97,\n 97,\n 97,\n 97,\n 97,\n 97,\n 97,\n 97,\n 97,\n 97,\n 97,\n 97,\n 97,\n 97,\n 97,\n 97,\n 97,\n 97,\n 97,\n 97,\n 97,\n 97,\n 97,\n 97,\n 97,\n 97,\n 97,\n 97,\n 97,\n 97,\n 97,\n 97,\n 97,\n 97,\n 97,\n 97,\n 97,\n 97,\n 97,\n 97,\n 97,\n 97,\n 98,\n 98,\n 98,\n 98,\n 98,\n 98,\n 98,\n 98,\n 98,\n 98,\n 98,\n 98,\n 98,\n 98,\n 98,\n 98,\n 98,\n 98,\n 98,\n 98,\n 98,\n 98,\n 98,\n 98,\n 98,\n 98,\n 98,\n 98,\n 98,\n 98,\n 98,\n 98,\n 98,\n 98,\n 98,\n 98,\n 98,\n 98,\n 98,\n 98,\n 98,\n 98,\n 98,\n 98,\n 98,\n 98,\n 98,\n 98,\n 98,\n 98,\n 98,\n 98,\n 98,\n 98,\n 98,\n 98,\n 98,\n 98,\n 98,\n 98,\n 98,\n 98,\n 98,\n 98,\n 98,\n 98,\n 99,\n 99,\n 99,\n 99,\n 99,\n 99,\n 99,\n 99,\n 99,\n 99,\n 99,\n 99,\n 99,\n 99,\n 99,\n 99,\n 99,\n 99,\n 99,\n 99,\n 99,\n 99,\n 99,\n 99,\n 99,\n 99,\n 99,\n 99,\n 99,\n 99,\n 99,\n 99,\n 99,\n 99,\n 99,\n 99,\n 99,\n 99,\n 99,\n 99,\n 99,\n 99,\n 99,\n 99,\n 99,\n 99,\n 99,\n 99,\n 99,\n 99,\n 99,\n 99,\n 99,\n 99,\n 99,\n 99,\n 99,\n 99,\n 99,\n 99,\n 99,\n 99,\n 99,\n 99,\n 99,\n 99,\n 99,\n 99,\n 99,\n 99,\n 99,\n 99,\n 99,\n 99,\n 99,\n 99,\n 99,\n 99,\n 99,\n 99,\n 99,\n 99,\n 99,\n 99,\n 99,\n 99,\n 99,\n 99,\n 99,\n 99,\n 99,\n 99,\n 99,\n 99,\n 99,\n 99,\n 99,\n 99,\n 99,\n 99,\n 99,\n 99,\n 99,\n 99,\n 99,\n 99,\n 99,\n 99,\n 99,\n 99,\n 99,\n 99,\n 99,\n 99,\n 99,\n 99,\n 99,\n 99,\n 99,\n 99,\n 99,\n 99,\n 99,\n 99,\n 99,\n 100,\n 100,\n 100,\n 100,\n 100,\n 100,\n 100,\n 100,\n 100,\n 100,\n 100,\n 100,\n 100,\n 100,\n 100,\n 100,\n 100,\n 100,\n 100,\n 100,\n 100,\n 100,\n 100,\n 100,\n 100,\n 100,\n 100,\n 100,\n 100,\n 100,\n 100,\n 100,\n 100,\n 100,\n 100,\n 100,\n 100,\n 100,\n 100,\n 100,\n 100,\n 100,\n 100,\n 100,\n 100,\n 100,\n 100,\n 100,\n 100,\n 100,\n 100,\n 100,\n 100,\n 100,\n 100,\n 100,\n 100,\n 100,\n 100,\n 100,\n 100,\n 100,\n 100,\n 100,\n 100,\n 100,\n 100,\n 100,\n 100,\n 100,\n 100,\n 100,\n 100,\n 100,\n 100,\n 100,\n 100,\n 100,\n 100,\n 100,\n 100,\n 100,\n 100,\n 100,\n 100,\n 100,\n 100,\n 100,\n 100,\n 100,\n 100,\n 100,\n 100,\n 100,\n 100,\n 100,\n 100,\n 100,\n 100,\n 100,\n 100,\n 100,\n 100,\n 100,\n 100,\n 100,\n 100,\n 100,\n 100,\n 100,\n 100,\n 100,\n 100,\n 100,\n 100,\n 100,\n 100,\n 100,\n 100,\n 100,\n 100,\n 100,\n 100,\n 100,\n 100,\n 100,\n 100,\n 100,\n 100,\n 100,\n 100,\n 100,\n 100,\n 100,\n 100,\n 100,\n 100,\n 100,\n 100,\n 100,\n 100,\n 100,\n 100,\n 100,\n 100,\n 100,\n 100,\n 100,\n 100,\n 100,\n 100,\n 100,\n 100,\n 100,\n 100,\n 100,\n 100,\n 100,\n 100,\n 100,\n 100,\n 100,\n 100,\n 100,\n 100,\n 100,\n 100,\n 100,\n 101,\n 101,\n 101,\n 101,\n 101,\n 101,\n 101,\n 101,\n 101,\n 101,\n 101,\n 101,\n 101,\n 101,\n 101,\n 101,\n 101,\n 101,\n 101,\n 101,\n 101,\n 101,\n 101,\n 101,\n 101,\n 101,\n 101,\n 101,\n 101,\n 101,\n 101,\n 101,\n 101,\n 101,\n 101,\n 101,\n 101,\n 101,\n 101,\n 101,\n 101,\n 101,\n 101,\n 101,\n 101,\n 101,\n 101,\n 101,\n 101,\n 101,\n 101,\n 101,\n 101,\n 101,\n 101,\n 101,\n 101,\n 101,\n 101,\n 101,\n 101,\n 101,\n 101,\n 101,\n 101,\n 101,\n 101,\n 101,\n 101,\n 101,\n 101,\n 101,\n 101,\n 101,\n 101,\n 101,\n 101,\n 101,\n 101,\n 101,\n 101,\n 101,\n 101,\n 101,\n 101,\n 101,\n 101,\n 101,\n 101,\n 101,\n 101,\n 101,\n 101,\n 101,\n 101,\n 101,\n 101,\n 101,\n 101,\n 101,\n 101,\n 101,\n 101,\n 101,\n 101,\n 101,\n 101,\n 101,\n 101,\n 101,\n 101,\n 101,\n 101,\n 101,\n 101,\n 101,\n 101,\n 101,\n 101,\n 101,\n 101,\n 101,\n 101,\n 101,\n 101,\n 101,\n 101,\n 101,\n 101,\n 101,\n 101,\n 101,\n 101,\n 101,\n 101,\n 101,\n 101,\n 101,\n 101,\n 101,\n 101,\n 101,\n 101,\n 101,\n 101,\n 101,\n 101,\n 101,\n 101,\n 101,\n 101,\n 101,\n 101,\n 101,\n 101,\n 101,\n 101,\n 101,\n 101,\n 101,\n 101,\n 101,\n 101,\n 102,\n 102,\n 102,\n 102,\n 102,\n 102,\n 102,\n 102,\n 102,\n 102,\n 102,\n 102,\n 102,\n 102,\n 102,\n 102,\n 102,\n 102,\n 102,\n 102,\n 102,\n 102,\n 102,\n 102,\n 102,\n 102,\n 102,\n 102,\n 102,\n 102,\n 102,\n 102,\n 102,\n 102,\n 102,\n 102,\n 102,\n 102,\n 102,\n 102,\n 102,\n 102,\n 102,\n 102,\n 102,\n 102,\n 102,\n 102,\n 102,\n 102,\n 102,\n 102,\n 102,\n 102,\n 102,\n 102,\n 102,\n 102,\n 102,\n 102,\n 102,\n 102,\n 102,\n 102,\n 102,\n 102,\n 102,\n 102,\n 102,\n 102,\n 102,\n 102,\n 102,\n 102,\n 102,\n 102,\n 102,\n 102,\n 102,\n 102,\n 102,\n 102,\n 102,\n 102,\n 102,\n 102,\n 102,\n 102,\n 102,\n 102,\n 102,\n 102,\n 102,\n 102,\n 102,\n 102,\n 102,\n 102,\n 102,\n 102,\n 102,\n 102,\n 102,\n 102,\n 102,\n 102,\n 102,\n 102,\n 102,\n 102,\n 102,\n 102,\n 102,\n 102,\n 102,\n 102,\n 102,\n 102,\n 102,\n 102,\n 102,\n 102,\n 102,\n 102,\n 102,\n 102,\n 102,\n 102,\n 102,\n 102,\n 102,\n 102,\n 102,\n 102,\n 102,\n 102,\n 102,\n 102,\n 102,\n 102,\n 102,\n 102,\n 102,\n 102,\n 102,\n 102,\n 102,\n 102,\n 102,\n 102,\n 102,\n 102,\n 102,\n 102,\n 102,\n 102,\n 102,\n 102,\n 102,\n 102,\n 102,\n 102,\n 102,\n 102,\n 102,\n 102,\n 102,\n 102,\n 102,\n 102,\n 102,\n 102,\n 102,\n 102,\n 102,\n 102,\n 102,\n 102,\n 102,\n 102,\n 102,\n 102,\n 102,\n 102,\n 102,\n 102,\n 102,\n ...]"
     },
     "execution_count": 76,
     "metadata": {},
     "output_type": "execute_result"
    }
   ],
   "source": [
    "sorted(comp0_cycle_lengths)"
   ],
   "metadata": {
    "collapsed": false
   }
  },
  {
   "cell_type": "code",
   "execution_count": 75,
   "outputs": [
    {
     "data": {
      "text/plain": "<Figure size 1000x600 with 2 Axes>",
      "image/png": "[encoded data removed]"
     },
     "metadata": {},
     "output_type": "display_data"
    }
   ],
   "source": [
    "fig, axes = plt.subplots(2,1, figsize=(10,6))\n",
    "\n",
    "sns.histplot([l for l in comp0_cycle_lengths if l<100], ax = axes[0])\n",
    "axes[0].set_title(\"COMP = 0\")\n",
    "\n",
    "sns.histplot(comp1_cycle_lengths, ax = axes[1])\n",
    "axes[1].set_title(\"COMP = 1\")\n",
    "\n",
    "plt.show()"
   ],
   "metadata": {
    "collapsed": false
   }
  },
  {
   "cell_type": "code",
   "execution_count": 12,
   "outputs": [],
   "source": [
    "def match_cycles_to_dates(cycle):\n",
    "    cycle_start, cycle_end = cycle\n",
    "    cycle_start_date = metro.iloc[cycle_start, :].timestamp_day\n",
    "    cycle_end_date = metro.iloc[cycle_end, :].timestamp_day\n",
    "    return [cycle_start_date, cycle_end_date]"
   ],
   "metadata": {
    "collapsed": false
   }
  },
  {
   "cell_type": "code",
   "execution_count": 13,
   "outputs": [],
   "source": [
    "def test_val_train_cycles(cycle_dates, train_dates, val_dates, test_dates):\n",
    "    train_inds, val_inds, test_inds = [], [], []\n",
    "    for j in range(len(train_dates)):\n",
    "        t_start, t_end = train_dates[j]\n",
    "        val_start, val_end = val_dates[j]\n",
    "        test_s, test_e = test_dates[j]\n",
    "        i=0\n",
    "        while cycle_dates[i][0] < t_start:\n",
    "            i+=1\n",
    "        train_start_ind = i\n",
    "        while cycle_dates[i][0] < t_end:\n",
    "            i+=1\n",
    "        train_end_ind = i\n",
    "        val_start_ind = train_end_ind\n",
    "        while cycle_dates[i][0] < val_end:\n",
    "            i+=1\n",
    "        val_end_ind = i\n",
    "        test_start_ind = val_end_ind\n",
    "        while i < len(cycle_dates) and cycle_dates[i][0] < test_e:\n",
    "            i+=1\n",
    "        test_end_ind = i\n",
    "\n",
    "        train_inds.append([train_start_ind, train_end_ind])\n",
    "        val_inds.append([val_start_ind, val_end_ind])\n",
    "        test_inds.append([test_start_ind, test_end_ind])\n",
    "\n",
    "    return train_inds, val_inds, test_inds"
   ],
   "metadata": {
    "collapsed": false
   }
  },
  {
   "cell_type": "code",
   "execution_count": 14,
   "outputs": [],
   "source": [
    "analog_sensors = [\"TP2\", \"TP3\", \"H1\",\"DV_pressure\", \"Reservoirs\", \"Oil_temperature\", \"Flowmeter\", \"Motor_current\"]\n",
    "digital_sensors = [\"COMP\", \"DV_electric\", \"Towers\", \"MPG\", \"LPS\", \"Pressure_switch\", \"Oil_level\", \"Caudal_impulses\"]\n",
    "all_sensors = analog_sensors + digital_sensors"
   ],
   "metadata": {
    "collapsed": false
   }
  },
  {
   "cell_type": "code",
   "execution_count": 72,
   "outputs": [],
   "source": [
    "with open(f\"data/online_train_val_test_inds.pkl\", \"rb\") as indspkl:\n",
    "    train_inds, val_inds, test_inds = pkl.load(indspkl)"
   ],
   "metadata": {
    "collapsed": false
   }
  },
  {
   "cell_type": "code",
   "execution_count": 20,
   "outputs": [],
   "source": [
    "def generate_cycle_tensors(df, cycle_inds, cols):\n",
    "    scaler = StandardScaler()\n",
    "    tensor_list = []\n",
    "    for i_s, i_f in cycle_inds:\n",
    "        df_slice = df.iloc[i_s:i_f,:]\n",
    "        df_slice = df_slice.loc[:,cols]\n",
    "        df_slice[df_slice.columns] = scaler.fit_transform(df_slice[df_slice.columns])\n",
    "        tensor_chunk = th.tensor(df_slice.values).unsqueeze(0).float()\n",
    "        tensor_list.append(tensor_chunk)\n",
    "    return tensor_list"
   ],
   "metadata": {
    "collapsed": false
   }
  },
  {
   "cell_type": "code",
   "execution_count": 21,
   "outputs": [],
   "source": [
    "all_tensors_comp0 = generate_cycle_tensors(metro, all_cycles_comp0, analog_sensors)\n",
    "all_tensors_comp1 = generate_cycle_tensors(metro, all_cycles_comp1, analog_sensors)"
   ],
   "metadata": {
    "collapsed": false
   }
  },
  {
   "cell_type": "code",
   "execution_count": 22,
   "outputs": [],
   "source": [
    "def yield_tensors_full(list_of_cycles, cycle_inds):\n",
    "    first_cycle, last_cycle = cycle_inds\n",
    "    tensor_list = []\n",
    "    for cycle in range(first_cycle, last_cycle):\n",
    "        tensor_list.append(list_of_cycles[cycle])\n",
    "    return tensor_list"
   ],
   "metadata": {
    "collapsed": false
   }
  },
  {
   "cell_type": "code",
   "execution_count": 74,
   "outputs": [],
   "source": [
    "for loop in range(len(train_inds)):\n",
    "    train_tensors_comp0 = yield_tensors_full(all_tensors_comp0, train_inds[loop])\n",
    "    train_tensors_comp1 = yield_tensors_full(all_tensors_comp1, train_inds[loop])\n",
    "    val_tensors_comp0 = yield_tensors_full(all_tensors_comp0, val_inds[loop])\n",
    "    val_tensors_comp1 = yield_tensors_full(all_tensors_comp1, val_inds[loop])\n",
    "    test_tensors_comp0 = yield_tensors_full(all_tensors_comp0, test_inds[loop])\n",
    "    test_tensors_comp1 = yield_tensors_full(all_tensors_comp1, test_inds[loop])\n",
    "    with open(f\"data/train_tensors_comp0_{loop}_analog_feats.pkl\",\"wb\") as tensorpkl:\n",
    "        pkl.dump(train_tensors_comp0,tensorpkl)\n",
    "    with open(f\"data/train_tensors_comp1_{loop}_analog_feats.pkl\",\"wb\") as tensorpkl:\n",
    "        pkl.dump(train_tensors_comp1,tensorpkl)\n",
    "    with open(f\"data/val_tensors_comp0_{loop}_analog_feats.pkl\",\"wb\") as tensorpkl:\n",
    "        pkl.dump(val_tensors_comp0,tensorpkl)\n",
    "    with open(f\"data/val_tensors_comp1_{loop}_analog_feats.pkl\",\"wb\") as tensorpkl:\n",
    "        pkl.dump(val_tensors_comp1,tensorpkl)\n",
    "    with open(f\"data/test_tensors_comp0_{loop}_analog_feats.pkl\",\"wb\") as tensorpkl:\n",
    "        pkl.dump(test_tensors_comp0,tensorpkl)\n",
    "    with open(f\"data/test_tensors_comp1_{loop}_analog_feats.pkl\",\"wb\") as tensorpkl:\n",
    "        pkl.dump(test_tensors_comp1,tensorpkl)"
   ],
   "metadata": {
    "collapsed": false
   }
  },
  {
   "cell_type": "code",
   "execution_count": 81,
   "outputs": [],
   "source": [
    "for loop in range(len(train_inds)):\n",
    "    train_tensors_comp0 = yield_tensors_full(all_tensors_comp0, train_inds[loop])\n",
    "    for tensor in train_tensors_comp0:\n",
    "        if len(tensor.shape) < 3:\n",
    "            print(tensor,loop,\"train comp0\")\n",
    "    train_tensors_comp1 = yield_tensors_full(all_tensors_comp1, train_inds[loop])\n",
    "    for tensor in train_tensors_comp1:\n",
    "        if len(tensor.shape) < 3:\n",
    "            print(tensor,loop,\"train comp1\")\n",
    "    val_tensors_comp0 = yield_tensors_full(all_tensors_comp0, val_inds[loop])\n",
    "    for tensor in val_tensors_comp0:\n",
    "        if len(tensor.shape) < 3:\n",
    "            print(tensor,loop,\"val comp0\")\n",
    "    val_tensors_comp1 = yield_tensors_full(all_tensors_comp1, val_inds[loop])\n",
    "    for tensor in train_tensors_comp1:\n",
    "        if len(tensor.shape) < 3:\n",
    "            print(tensor,loop,\"val comp1\")\n",
    "    test_tensors_comp0 = yield_tensors_full(all_tensors_comp0, test_inds[loop])\n",
    "    for tensor in test_tensors_comp0:\n",
    "        if len(tensor.shape) < 3:\n",
    "            print(tensor,loop,\"test comp0\")\n",
    "    test_tensors_comp1 = yield_tensors_full(all_tensors_comp1, test_inds[loop])\n",
    "    for tensor in test_tensors_comp1:\n",
    "        if len(tensor.shape)<3:\n",
    "            print(tensor,loop,\"test comp1\")"
   ],
   "metadata": {
    "collapsed": false
   }
  },
  {
   "cell_type": "code",
   "execution_count": 80,
   "outputs": [
    {
     "data": {
      "text/plain": "torch.Size([1, 967, 8])"
     },
     "execution_count": 80,
     "metadata": {},
     "output_type": "execute_result"
    }
   ],
   "source": [
    "test_tensors_comp1[0].shape"
   ],
   "metadata": {
    "collapsed": false
   }
  },
  {
   "cell_type": "code",
   "execution_count": null,
   "outputs": [],
   "source": [],
   "metadata": {
    "collapsed": false
   }
  }
 ],
 "metadata": {
  "kernelspec": {
   "display_name": "Python 3",
   "language": "python",
   "name": "python3"
  },
  "language_info": {
   "codemirror_mode": {
    "name": "ipython",
    "version": 2
   },
   "file_extension": ".py",
   "mimetype": "text/x-python",
   "name": "python",
   "nbconvert_exporter": "python",
   "pygments_lexer": "ipython2",
   "version": "2.7.6"
  }
 },
 "nbformat": 4,
 "nbformat_minor": 0
}
